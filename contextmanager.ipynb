{
 "cells": [
  {
   "cell_type": "code",
   "execution_count": 1,
   "id": "cc01087c-516f-448e-9d86-b855d6635762",
   "metadata": {},
   "outputs": [],
   "source": [
    "import csv\n",
    "import os\n",
    "import tempfile\n",
    "from contextlib import contextmanager\n",
    "\n",
    "@contextmanager\n",
    "def inplace(filename, mode='r', **kwargs):\n",
    "    temp_fd, temp_path = tempfile.mkstemp()\n",
    "    with open(filename, mode, **kwargs) as infh, open(temp_path, 'w', newline='') as outfh:\n",
    "        yield infh, outfh\n",
    "    os.replace(temp_path, filename)\n"
   ]
  }
 ],
 "metadata": {
  "kernelspec": {
   "display_name": "Python 3 (ipykernel)",
   "language": "python",
   "name": "python3"
  },
  "language_info": {
   "codemirror_mode": {
    "name": "ipython",
    "version": 3
   },
   "file_extension": ".py",
   "mimetype": "text/x-python",
   "name": "python",
   "nbconvert_exporter": "python",
   "pygments_lexer": "ipython3",
   "version": "3.12.3"
  }
 },
 "nbformat": 4,
 "nbformat_minor": 5
}
